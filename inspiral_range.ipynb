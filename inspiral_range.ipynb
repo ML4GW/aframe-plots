{
 "cells": [
  {
   "cell_type": "code",
   "execution_count": 2,
   "metadata": {},
   "outputs": [],
   "source": [
    "import numpy as np\n",
    "from inspiral_range.inspiral_range import sensemon_range\n",
    "from gwpy.timeseries import TimeSeries\n",
    "from tqdm import tqdm\n",
    "\n",
    "from aframe_plots.config import DataPaths\n",
    "\n",
    "\n",
    "def get_psd_for_ifo(fname, ifo, fftlength=8):\n",
    "    ts = TimeSeries.read(fname, ifo)\n",
    "    psd = ts.psd(fftlength=fftlength, window=\"hann\", method=\"median\")\n",
    "    return psd.value, psd.frequencies.value\n",
    "\n",
    "\n",
    "def compute_range_for_run(run_dir, m1, m2, fftlength=8):\n",
    "    psds = {i: [] for i in [\"H1\", \"L1\"]}\n",
    "    data_dir = run_dir / \"test\" / \"background\"\n",
    "    if not data_dir.exists():\n",
    "        return {}\n",
    "\n",
    "    fnames = list(data_dir.iterdir())\n",
    "    for fname in tqdm(fnames, desc=run_dir.name):\n",
    "        for ifo, value in psds.items():\n",
    "            psd, freqs = get_psd_for_ifo(fname, ifo, fftlength)\n",
    "            value.append(psd)\n",
    "\n",
    "    ranges = {}\n",
    "    for key, value in psds.items():\n",
    "        value = np.stack(value)\n",
    "        psd = value.mean(0)\n",
    "        ranges[key] = sensemon_range(\n",
    "            freqs,\n",
    "            psd,\n",
    "            m1,\n",
    "            m2,\n",
    "            horizon=False,\n",
    "            integrate=True,\n",
    "            detection_snr=8\n",
    "        )\n",
    "    return ranges"
   ]
  },
  {
   "cell_type": "code",
   "execution_count": 3,
   "metadata": {},
   "outputs": [
    {
     "ename": "FileNotFoundError",
     "evalue": "[Errno 2] No such file or directory: '/home/ethan.marx/aframe/interval-runs'",
     "output_type": "error",
     "traceback": [
      "\u001b[0;31m---------------------------------------------------------------------------\u001b[0m",
      "\u001b[0;31mFileNotFoundError\u001b[0m                         Traceback (most recent call last)",
      "Cell \u001b[0;32mIn[3], line 3\u001b[0m\n\u001b[1;32m      1\u001b[0m data_dir \u001b[39m=\u001b[39m Path(\u001b[39m\"\u001b[39m\u001b[39m/home/ethan.marx/aframe/interval-runs\u001b[39m\u001b[39m\"\u001b[39m)\n\u001b[1;32m      2\u001b[0m ranges \u001b[39m=\u001b[39m {}\n\u001b[0;32m----> 3\u001b[0m \u001b[39mfor\u001b[39;00m dirname \u001b[39min\u001b[39;00m data_dir\u001b[39m.\u001b[39miterdir():\n\u001b[1;32m      4\u001b[0m     \u001b[39mif\u001b[39;00m \u001b[39mnot\u001b[39;00m dirname\u001b[39m.\u001b[39mis_dir():\n\u001b[1;32m      5\u001b[0m         \u001b[39mcontinue\u001b[39;00m\n",
      "File \u001b[0;32m~/miniconda3/lib/python3.9/pathlib.py:1160\u001b[0m, in \u001b[0;36mPath.iterdir\u001b[0;34m(self)\u001b[0m\n\u001b[1;32m   1156\u001b[0m \u001b[39mdef\u001b[39;00m \u001b[39miterdir\u001b[39m(\u001b[39mself\u001b[39m):\n\u001b[1;32m   1157\u001b[0m \u001b[39m    \u001b[39m\u001b[39m\"\"\"Iterate over the files in this directory.  Does not yield any\u001b[39;00m\n\u001b[1;32m   1158\u001b[0m \u001b[39m    result for the special paths '.' and '..'.\u001b[39;00m\n\u001b[1;32m   1159\u001b[0m \u001b[39m    \"\"\"\u001b[39;00m\n\u001b[0;32m-> 1160\u001b[0m     \u001b[39mfor\u001b[39;00m name \u001b[39min\u001b[39;00m \u001b[39mself\u001b[39;49m\u001b[39m.\u001b[39;49m_accessor\u001b[39m.\u001b[39;49mlistdir(\u001b[39mself\u001b[39;49m):\n\u001b[1;32m   1161\u001b[0m         \u001b[39mif\u001b[39;00m name \u001b[39min\u001b[39;00m {\u001b[39m'\u001b[39m\u001b[39m.\u001b[39m\u001b[39m'\u001b[39m, \u001b[39m'\u001b[39m\u001b[39m..\u001b[39m\u001b[39m'\u001b[39m}:\n\u001b[1;32m   1162\u001b[0m             \u001b[39m# Yielding a path object for these makes little sense\u001b[39;00m\n\u001b[1;32m   1163\u001b[0m             \u001b[39mcontinue\u001b[39;00m\n",
      "\u001b[0;31mFileNotFoundError\u001b[0m: [Errno 2] No such file or directory: '/home/ethan.marx/aframe/interval-runs'"
     ]
    }
   ],
   "source": [
    "ranges = {}\n",
    "for dirname in DataPaths.INTERVAL_PLOTS.iterdir():\n",
    "    if not dirname.is_dir():\n",
    "        continue\n",
    "\n",
    "    run_range = compute_range_for_run(dirname, 35, 35)\n",
    "    if run_range:\n",
    "        ranges[dirname.name] = run_range"
   ]
  },
  {
   "cell_type": "code",
   "execution_count": null,
   "metadata": {},
   "outputs": [],
   "source": []
  }
 ],
 "metadata": {
  "kernelspec": {
   "display_name": "aframe-plots-APeepZJd-py3.9",
   "language": "python",
   "name": "python3"
  },
  "language_info": {
   "codemirror_mode": {
    "name": "ipython",
    "version": 3
   },
   "file_extension": ".py",
   "mimetype": "text/x-python",
   "name": "python",
   "nbconvert_exporter": "python",
   "pygments_lexer": "ipython3",
   "version": "3.9.12"
  },
  "orig_nbformat": 4
 },
 "nbformat": 4,
 "nbformat_minor": 2
}
