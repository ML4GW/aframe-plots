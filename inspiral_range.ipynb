{
 "cells": [
  {
   "cell_type": "code",
   "execution_count": 53,
   "metadata": {},
   "outputs": [],
   "source": [
    "import numpy as np\n",
    "from inspiral_range.inspiral_range import sensemon_range\n",
    "from gwpy.timeseries import TimeSeries\n",
    "from tqdm import tqdm\n",
    "\n",
    "from aframe_plots.config import DataPaths\n",
    "\n",
    "\n",
    "def get_psd_for_ifo(fname, ifo, fftlength=8):\n",
    "    ts = TimeSeries.read(fname, ifo)\n",
    "    psd = ts.psd(fftlength=fftlength, window=\"hann\", method=\"median\")\n",
    "    mask = psd.frequencies.value > 10\n",
    "    mask &= psd.frequencies.value < 2048\n",
    "    return psd.value[mask], psd.frequencies.value[mask]\n",
    "\n",
    "\n",
    "def compute_range_for_run(run_dir, m1, m2, fftlength=8):\n",
    "    psds = {i: [] for i in [\"H1\", \"L1\"]}\n",
    "    data_dir = run_dir / \"test\" / \"background\"\n",
    "    if not data_dir.exists():\n",
    "        return {}\n",
    "\n",
    "    fnames = list(data_dir.iterdir())\n",
    "    for fname in tqdm(fnames, desc=run_dir.name):\n",
    "        for ifo, value in psds.items():\n",
    "            psd, freqs = get_psd_for_ifo(fname, ifo, fftlength)\n",
    "            value.append(psd)\n",
    "\n",
    "    ranges = {}\n",
    "    for key, value in psds.items():\n",
    "        value = np.stack(value)\n",
    "        psd = value.mean(0)\n",
    "        ranges[key] = sensemon_range(\n",
    "            freqs,\n",
    "            psd,\n",
    "            m1,\n",
    "            m2,\n",
    "            horizon=False,\n",
    "            integrate=True,\n",
    "            detection_snr=8\n",
    "        )\n",
    "    return ranges"
   ]
  },
  {
   "cell_type": "code",
   "execution_count": 54,
   "metadata": {},
   "outputs": [
    {
     "name": "stderr",
     "output_type": "stream",
     "text": [
      "06-22-2019_06-29-2019: 100%|██████████| 25/25 [02:36<00:00,  6.27s/it]\n",
      "01-18-2020_01-25-2020: 100%|██████████| 25/25 [02:44<00:00,  6.59s/it]\n",
      "08-31-2019_09-07-2019: 100%|██████████| 36/36 [03:20<00:00,  5.57s/it]\n",
      "11-23-2019_11-30-2019: 100%|██████████| 32/32 [03:40<00:00,  6.89s/it]\n",
      "06-15-2019_06-22-2019: 100%|██████████| 38/38 [03:11<00:00,  5.05s/it]\n",
      "07-06-2019_07-13-2019: 100%|██████████| 29/29 [03:06<00:00,  6.44s/it]\n"
     ]
    }
   ],
   "source": [
    "ranges = {}\n",
    "for dirname in DataPaths.INTERVAL_PLOTS.iterdir():\n",
    "    if not dirname.is_dir():\n",
    "        continue\n",
    "\n",
    "    run_range = compute_range_for_run(dirname, 35, 35)\n",
    "    if run_range:\n",
    "        ranges[dirname.name] = run_range"
   ]
  },
  {
   "cell_type": "code",
   "execution_count": null,
   "metadata": {},
   "outputs": [],
   "source": []
  }
 ],
 "metadata": {
  "kernelspec": {
   "display_name": "aframe-plots",
   "language": "python",
   "name": "aframe-plots"
  },
  "language_info": {
   "codemirror_mode": {
    "name": "ipython",
    "version": 3
   },
   "file_extension": ".py",
   "mimetype": "text/x-python",
   "name": "python",
   "nbconvert_exporter": "python",
   "pygments_lexer": "ipython3",
   "version": "3.9.16"
  },
  "orig_nbformat": 4
 },
 "nbformat": 4,
 "nbformat_minor": 2
}
